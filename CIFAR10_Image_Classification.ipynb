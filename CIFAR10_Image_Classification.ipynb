{
 "cells": [
  {
   "cell_type": "code",
   "execution_count": 21,
   "id": "extreme-award",
   "metadata": {},
   "outputs": [],
   "source": [
    "import numpy as np\n",
    "import matplotlib.pyplot as plt\n",
    "import matplotlib as mpl\n",
    "from keras.datasets import cifar10\n",
    "import cv2"
   ]
  },
  {
   "cell_type": "code",
   "execution_count": 22,
   "id": "agreed-packaging",
   "metadata": {},
   "outputs": [
    {
     "name": "stdout",
     "output_type": "stream",
     "text": [
      "Train image shape:    (15000, 32, 32, 3)\n",
      "Train label shape:    (15000, 1)\n",
      "Test image shape:     (3000, 32, 32, 3)\n",
      "Test label shape:     (3000, 1)\n"
     ]
    }
   ],
   "source": [
    "#classes for \"Sztuczna Inteligencja 1\" = plane 0, cat 3, truck 9\n",
    "#loading data\n",
    "\n",
    "(X_train, y_train), (X_test, y_test) = cifar10.load_data()\n",
    "\n",
    "index_train = np.where((y_train == 0) | (y_train == 3) | (y_train == 9))\n",
    "index_test = np.where((y_test == 0) | (y_test == 3) | (y_test == 9))\n",
    "\n",
    "X_train = X_train[index_train[0]]\n",
    "y_train = y_train[index_train[0]]\n",
    "X_test = X_test[index_test[0]]\n",
    "y_test = y_test[index_test[0]]\n",
    "\n",
    "#X_train = X_train[:15000, :].astype(float)\n",
    "#y_train = np.squeeze(y_train[:15000, :])\n",
    "#y_test = np.squeeze(y_test)\n",
    "#X_test = X_test.astype(float)\n",
    "\n",
    "print ('Train image shape:    {0}'.format(X_train.shape))\n",
    "print ('Train label shape:    {0}'.format(y_train.shape))\n",
    "print ('Test image shape:     {0}'.format(X_test.shape))\n",
    "print ('Test label shape:     {0}'.format(y_test.shape))\n"
   ]
  },
  {
   "cell_type": "code",
   "execution_count": 23,
   "id": "expensive-chuck",
   "metadata": {},
   "outputs": [
    {
     "data": {
      "image/png": "[encoded data removed]",
      "text/plain": [
       "<Figure size 720x720 with 3 Axes>"
      ]
     },
     "metadata": {
      "needs_background": "light"
     },
     "output_type": "display_data"
    }
   ],
   "source": [
    "#visualizing data\n",
    "\n",
    "plt.figure(figsize=(10, 10)) \n",
    "\n",
    "plt.subplot(3, 3, 1)\n",
    "plt.imshow(X_train[0])\n",
    "\n",
    "plt.subplot(3, 3, 2)\n",
    "plt.imshow(X_train[2])\n",
    "\n",
    "plt.subplot(3, 3, 3)\n",
    "plt.imshow(X_train[30])\n",
    "\n",
    "plt.show()"
   ]
  },
  {
   "cell_type": "code",
   "execution_count": 24,
   "id": "enclosed-diameter",
   "metadata": {},
   "outputs": [
    {
     "name": "stdout",
     "output_type": "stream",
     "text": [
      "Train image shape:    (15000, 32, 32)\n",
      "Train label shape:    (15000, 1)\n",
      "Test image shape:     (3000, 32, 32)\n",
      "Test label shape:     (3000, 1)\n"
     ]
    }
   ],
   "source": [
    "#converting into grayscale\n",
    "\n",
    "X_train = np.array([cv2.cvtColor(image, cv2.COLOR_BGR2GRAY) for image in X_train])\n",
    "X_test = np.array([cv2.cvtColor(image, cv2.COLOR_BGR2GRAY) for image in X_test])\n",
    "print ('Train image shape:    {0}'.format(X_train.shape))\n",
    "print ('Train label shape:    {0}'.format(y_train.shape))\n",
    "print ('Test image shape:     {0}'.format(X_test.shape))\n",
    "print ('Test label shape:     {0}'.format(y_test.shape))\n"
   ]
  },
  {
   "cell_type": "code",
   "execution_count": 25,
   "id": "caring-layer",
   "metadata": {},
   "outputs": [
    {
     "name": "stdout",
     "output_type": "stream",
     "text": [
      "Train image shape:    (15000, 32, 32)\n",
      "Train label shape:    (15000, 1)\n",
      "Test image shape:     (3000, 32, 32)\n",
      "Test label shape:     (3000, 1)\n"
     ]
    }
   ],
   "source": [
    "#preprocessing: normalize\n",
    "\n",
    "X_train  = X_train/255\n",
    "X_test  = X_test/255\n",
    "print ('Train image shape:    {0}'.format(X_train.shape))\n",
    "print ('Train label shape:    {0}'.format(y_train.shape))\n",
    "print ('Test image shape:     {0}'.format(X_test.shape))\n",
    "print ('Test label shape:     {0}'.format(y_test.shape))\n"
   ]
  },
  {
   "cell_type": "code",
   "execution_count": 26,
   "id": "german-thunder",
   "metadata": {},
   "outputs": [
    {
     "name": "stdout",
     "output_type": "stream",
     "text": [
      "Train image shape:    (15000, 1024)\n",
      "Train label shape:    (15000, 1)\n",
      "Test image shape:     (3000, 1024)\n",
      "Test label shape:     (3000, 1)\n"
     ]
    }
   ],
   "source": [
    "#preprocessing: reshape\n",
    "\n",
    "X_train = np.reshape(X_train, (X_train.shape[0], -1)) \n",
    "X_test = np.reshape(X_test, (X_test.shape[0], -1)) \n",
    "\n",
    "print ('Train image shape:    {0}'.format(X_train.shape))\n",
    "print ('Train label shape:    {0}'.format(y_train.shape))\n",
    "print ('Test image shape:     {0}'.format(X_test.shape))\n",
    "print ('Test label shape:     {0}'.format(y_test.shape))"
   ]
  },
  {
   "cell_type": "code",
   "execution_count": 27,
   "id": "wrapped-hospital",
   "metadata": {},
   "outputs": [],
   "source": [
    "#preprocessing: add bias - optional\n",
    "\n",
    "#X_train = np.hstack([X_train, np.ones((X_train.shape[0], 1))])\n",
    "#X_test = np.hstack([X_test, np.ones((X_test.shape[0], 1))])"
   ]
  },
  {
   "cell_type": "code",
   "execution_count": 28,
   "id": "pressing-penalty",
   "metadata": {},
   "outputs": [
    {
     "name": "stdout",
     "output_type": "stream",
     "text": [
      "Train image shape:    (15000, 1024)\n",
      "Train label shape:    (15000, 1)\n",
      "Test image shape:     (3000, 1024)\n",
      "Test label shape:     (3000, 1)\n"
     ]
    }
   ],
   "source": [
    "print ('Train image shape:    {0}'.format(X_train.shape))\n",
    "print ('Train label shape:    {0}'.format(y_train.shape))\n",
    "print ('Test image shape:     {0}'.format(X_test.shape))\n",
    "print ('Test label shape:     {0}'.format(y_test.shape))\n"
   ]
  },
  {
   "cell_type": "code",
   "execution_count": null,
   "id": "political-clerk",
   "metadata": {},
   "outputs": [],
   "source": []
  },
  {
   "cell_type": "code",
   "execution_count": null,
   "id": "naked-fusion",
   "metadata": {},
   "outputs": [],
   "source": []
  }
 ],
 "metadata": {
  "kernelspec": {
   "display_name": "Python 3",
   "language": "python",
   "name": "python3"
  },
  "language_info": {
   "codemirror_mode": {
    "name": "ipython",
    "version": 3
   },
   "file_extension": ".py",
   "mimetype": "text/x-python",
   "name": "python",
   "nbconvert_exporter": "python",
   "pygments_lexer": "ipython3",
   "version": "3.7.9"
  }
 },
 "nbformat": 4,
 "nbformat_minor": 5
}
