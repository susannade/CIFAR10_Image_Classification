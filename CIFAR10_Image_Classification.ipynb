{
 "cells": [
  {
   "cell_type": "code",
   "execution_count": 2,
   "id": "0de99d53",
   "metadata": {},
   "outputs": [],
   "source": [
    "import numpy as np\n",
    "import matplotlib.pyplot as plt\n",
    "import matplotlib as mpl\n",
    "from keras.datasets import cifar10\n",
    "import cv2\n",
    "from sklearn import svm\n",
    "from sklearn import metrics\n",
    "import seaborn as sns\n",
    "import pandas as pd\n",
    "from sklearn.metrics import f1_score"
   ]
  },
  {
   "cell_type": "code",
   "execution_count": 3,
   "id": "597987e1",
   "metadata": {},
   "outputs": [],
   "source": [
    "# 168501,172177 Inzynieria Biomedyczna "
   ]
  },
  {
   "cell_type": "code",
   "execution_count": 4,
   "id": "1a44be37",
   "metadata": {},
   "outputs": [
    {
     "name": "stdout",
     "output_type": "stream",
     "text": [
      "Train image shape:    (15000, 32, 32, 3)\n",
      "Train label shape:    (15000, 1)\n",
      "Test image shape:     (3000, 32, 32, 3)\n",
      "Test label shape:     (3000, 1)\n"
     ]
    }
   ],
   "source": [
    "#classes for \"Sztuczna Inteligencja 1\" = plane 0, cat 3, truck 9\n",
    "#loading data\n",
    "\n",
    "(X_train, y_train), (X_test, y_test) = cifar10.load_data()\n",
    "\n",
    "index_train = np.where((y_train == 0) | (y_train == 3) | (y_train == 9))\n",
    "index_test = np.where((y_test == 0) | (y_test == 3) | (y_test == 9))\n",
    "\n",
    "X_train = X_train[index_train[0]]\n",
    "y_train = y_train[index_train[0]]\n",
    "X_test = X_test[index_test[0]]\n",
    "y_test = y_test[index_test[0]]\n",
    "\n",
    "print ('Train image shape:    {0}'.format(X_train.shape))\n",
    "print ('Train label shape:    {0}'.format(y_train.shape))\n",
    "print ('Test image shape:     {0}'.format(X_test.shape))\n",
    "print ('Test label shape:     {0}'.format(y_test.shape))\n"
   ]
  },
  {
   "cell_type": "code",
   "execution_count": 5,
   "id": "826dd866",
   "metadata": {},
   "outputs": [
    {
     "data": {
      "image/png": "[encoded data removed]",
      "text/plain": [
       "<Figure size 720x720 with 3 Axes>"
      ]
     },
     "metadata": {
      "needs_background": "light"
     },
     "output_type": "display_data"
    }
   ],
   "source": [
    "#visualizing data\n",
    "\n",
    "plt.figure(figsize=(10, 10)) \n",
    "\n",
    "plt.subplot(3, 3, 1)\n",
    "plt.imshow(X_train[0])\n",
    "\n",
    "plt.subplot(3, 3, 2)\n",
    "plt.imshow(X_train[2])\n",
    "\n",
    "plt.subplot(3, 3, 3)\n",
    "plt.imshow(X_train[30])\n",
    "\n",
    "plt.show()"
   ]
  },
  {
   "cell_type": "code",
   "execution_count": 6,
   "id": "8e80965f",
   "metadata": {},
   "outputs": [
    {
     "name": "stdout",
     "output_type": "stream",
     "text": [
      "Train image shape:    (15000, 32, 32)\n",
      "Train label shape:    (15000, 1)\n",
      "Test image shape:     (3000, 32, 32)\n",
      "Test label shape:     (3000, 1)\n"
     ]
    }
   ],
   "source": [
    "#converting into grayscale\n",
    "\n",
    "X_train = np.array([cv2.cvtColor(image, cv2.COLOR_BGR2GRAY) for image in X_train])\n",
    "X_test = np.array([cv2.cvtColor(image, cv2.COLOR_BGR2GRAY) for image in X_test])\n",
    "print ('Train image shape:    {0}'.format(X_train.shape))\n",
    "print ('Train label shape:    {0}'.format(y_train.shape))\n",
    "print ('Test image shape:     {0}'.format(X_test.shape))\n",
    "print ('Test label shape:     {0}'.format(y_test.shape))\n"
   ]
  },
  {
   "cell_type": "code",
   "execution_count": 7,
   "id": "ef940134",
   "metadata": {},
   "outputs": [
    {
     "name": "stdout",
     "output_type": "stream",
     "text": [
      "Train image shape:    (15000, 32, 32)\n",
      "Train label shape:    (15000, 1)\n",
      "Test image shape:     (3000, 32, 32)\n",
      "Test label shape:     (3000, 1)\n"
     ]
    }
   ],
   "source": [
    "#preprocessing: normalize\n",
    "\n",
    "X_train  = X_train/255\n",
    "X_test  = X_test/255\n",
    "print ('Train image shape:    {0}'.format(X_train.shape))\n",
    "print ('Train label shape:    {0}'.format(y_train.shape))\n",
    "print ('Test image shape:     {0}'.format(X_test.shape))\n",
    "print ('Test label shape:     {0}'.format(y_test.shape))\n"
   ]
  },
  {
   "cell_type": "code",
   "execution_count": 8,
   "id": "ec6fc94a",
   "metadata": {},
   "outputs": [
    {
     "data": {
      "text/plain": [
       "numpy.ndarray"
      ]
     },
     "execution_count": 8,
     "metadata": {},
     "output_type": "execute_result"
    }
   ],
   "source": [
    "type(X_test)"
   ]
  },
  {
   "cell_type": "code",
   "execution_count": 9,
   "id": "f00a0ee0",
   "metadata": {},
   "outputs": [
    {
     "name": "stdout",
     "output_type": "stream",
     "text": [
      "Train image shape:    (15000, 1024)\n",
      "Train label shape:    (15000, 1)\n",
      "Test image shape:     (3000, 1024)\n",
      "Test label shape:     (3000, 1)\n"
     ]
    }
   ],
   "source": [
    "#preprocessing: reshape\n",
    "\n",
    "X_train = np.reshape(X_train, (X_train.shape[0], -1)) \n",
    "X_test = np.reshape(X_test, (X_test.shape[0], -1)) \n",
    "\n",
    "print ('Train image shape:    {0}'.format(X_train.shape))\n",
    "print ('Train label shape:    {0}'.format(y_train.shape))\n",
    "print ('Test image shape:     {0}'.format(X_test.shape))\n",
    "print ('Test label shape:     {0}'.format(y_test.shape))"
   ]
  },
  {
   "cell_type": "code",
   "execution_count": 10,
   "id": "ebba209e",
   "metadata": {},
   "outputs": [
    {
     "name": "stdout",
     "output_type": "stream",
     "text": [
      "Train image shape:    (15000, 1024)\n",
      "Train label shape:    (15000, 1)\n",
      "Test image shape:     (3000, 1024)\n",
      "Test label shape:     (3000, 1)\n"
     ]
    }
   ],
   "source": [
    "print ('Train image shape:    {0}'.format(X_train.shape))\n",
    "print ('Train label shape:    {0}'.format(y_train.shape))\n",
    "print ('Test image shape:     {0}'.format(X_test.shape))\n",
    "print ('Test label shape:     {0}'.format(y_test.shape))\n"
   ]
  },
  {
   "cell_type": "code",
   "execution_count": 11,
   "id": "a7d07582",
   "metadata": {},
   "outputs": [],
   "source": [
    "#SVM supervised learning "
   ]
  },
  {
   "cell_type": "code",
   "execution_count": 12,
   "id": "7270c7a0",
   "metadata": {},
   "outputs": [],
   "source": [
    "y_train= y_train.ravel()\n",
    "y_test= y_test.ravel()"
   ]
  },
  {
   "cell_type": "code",
   "execution_count": 13,
   "id": "441382e6",
   "metadata": {},
   "outputs": [],
   "source": [
    "model = svm.SVC(kernel='rbf', C=100)\n",
    "model.fit(X_train, y_train)\n",
    "y_pred = model.predict(X_test)"
   ]
  },
  {
   "cell_type": "code",
   "execution_count": 16,
   "id": "ea80c848",
   "metadata": {},
   "outputs": [
    {
     "name": "stdout",
     "output_type": "stream",
     "text": [
      "Accuracy -> 0.765\n",
      "Precision -> 0.765\n",
      "Recall -> 0.765\n"
     ]
    }
   ],
   "source": [
    "print(\"Accuracy ->\",metrics.accuracy_score(y_test, y_pred))\n",
    "print(\"Precision ->\",metrics.precision_score(y_test, y_pred,average='micro'))\n",
    "print(\"Recall ->\",metrics.recall_score(y_test, y_pred,average='micro'))"
   ]
  },
  {
   "cell_type": "code",
   "execution_count": 17,
   "id": "608a539c",
   "metadata": {},
   "outputs": [
    {
     "data": {
      "text/plain": [
       "Text(0.5, 257.44, 'Predicted')"
      ]
     },
     "execution_count": 17,
     "metadata": {},
     "output_type": "execute_result"
    },
    {
     "data": {
      "image/png": "[encoded data removed]",
      "text/plain": [
       "<Figure size 432x288 with 2 Axes>"
      ]
     },
     "metadata": {
      "needs_background": "light"
     },
     "output_type": "display_data"
    }
   ],
   "source": [
    "cnf_matrix = metrics.confusion_matrix(y_test, y_pred)\n",
    "cnf_matrix\n",
    "#class_names=[] # nazwy klas\n",
    "fig, ax = plt.subplots()\n",
    "# tworzenie mapy cieplnej\n",
    "sns.heatmap(pd.DataFrame(cnf_matrix), annot=True ,fmt='g')\n",
    "ax.xaxis.set_label_position(\"top\")\n",
    "plt.tight_layout()\n",
    "plt.title('Confusion matrix AH,ZD', y=1.0)\n",
    "plt.ylabel('True ')\n",
    "plt.xlabel('Predicted')"
   ]
  },
  {
   "cell_type": "code",
   "execution_count": 18,
   "id": "0b17d127",
   "metadata": {},
   "outputs": [
    {
     "name": "stdout",
     "output_type": "stream",
     "text": [
      "F1 -> 0.7646175824497022\n"
     ]
    }
   ],
   "source": [
    "print(\"F1 ->\",f1_score(y_test, y_pred, average='macro'))"
   ]
  },
  {
   "cell_type": "markdown",
   "id": "eb55387d",
   "metadata": {},
   "source": [
    "### Dodatkowa komórka na testy:"
   ]
  },
  {
   "cell_type": "markdown",
   "id": "1caf8cd5",
   "metadata": {},
   "source": [
    "Tutaj mieliśmy problem z poleceniem z Panią Zuzanną, nasz model ma być testowany na nieznanym zbiorze. Przyznam że nie wiem jak napisać coś co rozpakuje mi pliki o nieznanym formacie  i przetworzy je do wejścia naszego modelu. Pseudo kod powinien wyglądać mniej więcej tak.\n",
    "\n",
    "`\n",
    "path =  // pliknieznany.format\n",
    "data=unpack(path)\n",
    "data = data.to_numpy\n",
    "X_test2,y_test2 = split(data)\n",
    "y_pred2 = model.predict(X_test2)\n",
    "`"
   ]
  },
  {
   "cell_type": "code",
   "execution_count": null,
   "id": "6a9222a3",
   "metadata": {},
   "outputs": [],
   "source": []
  }
 ],
 "metadata": {
  "kernelspec": {
   "display_name": "Python 3",
   "language": "python",
   "name": "python3"
  },
  "language_info": {
   "codemirror_mode": {
    "name": "ipython",
    "version": 3
   },
   "file_extension": ".py",
   "mimetype": "text/x-python",
   "name": "python",
   "nbconvert_exporter": "python",
   "pygments_lexer": "ipython3",
   "version": "3.7.10"
  }
 },
 "nbformat": 4,
 "nbformat_minor": 5
}
