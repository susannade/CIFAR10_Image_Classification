{
 "cells": [
  {
   "cell_type": "code",
   "execution_count": 1,
   "id": "dutch-knife",
   "metadata": {},
   "outputs": [
    {
     "name": "stderr",
     "output_type": "stream",
     "text": [
      "Using TensorFlow backend.\n"
     ]
    }
   ],
   "source": [
    "import numpy as np\n",
    "import matplotlib.pyplot as plt\n",
    "import matplotlib as mpl\n",
    "from keras.datasets import cifar10\n",
    "import cv2"
   ]
  },
  {
   "cell_type": "code",
   "execution_count": 2,
   "id": "working-semiconductor",
   "metadata": {},
   "outputs": [
    {
     "name": "stdout",
     "output_type": "stream",
     "text": [
      "Train image shape:    (15000, 32, 32, 3)\n",
      "Train label shape:    (15000, 1)\n",
      "Test image shape:     (3000, 32, 32, 3)\n",
      "Test label shape:     (3000, 1)\n"
     ]
    }
   ],
   "source": [
    "#classes for \"Sztuczna Inteligencja 1\" = plane 0, cat 3, truck 9\n",
    "#loadind data\n",
    "\n",
    "(X_train, y_train), (X_test, y_test) = cifar10.load_data()\n",
    "\n",
    "index_train = np.where((y_train == 0) | (y_train == 3) | (y_train == 9))\n",
    "index_test = np.where((y_test == 0) | (y_test == 3) | (y_test == 9))\n",
    "\n",
    "X_train = X_train[index_train[0]]\n",
    "y_train = y_train[index_train[0]]\n",
    "X_test = X_test[index_test[0]]\n",
    "y_test = y_test[index_test[0]]\n",
    "\n",
    "#X_train = X_train[:15000, :].astype(float)\n",
    "#y_train = np.squeeze(y_train[:15000, :])\n",
    "#y_test = np.squeeze(y_test)\n",
    "#X_test = X_test.astype(float)\n",
    "\n",
    "print ('Train image shape:    {0}'.format(X_train.shape))\n",
    "print ('Train label shape:    {0}'.format(y_train.shape))\n",
    "print ('Test image shape:     {0}'.format(X_test.shape))\n",
    "print ('Test label shape:     {0}'.format(y_test.shape))\n"
   ]
  },
  {
   "cell_type": "code",
   "execution_count": 3,
   "id": "surprised-finance",
   "metadata": {},
   "outputs": [
    {
     "name": "stdout",
     "output_type": "stream",
     "text": [
      "Train image shape:    (15000, 32, 32)\n",
      "Train label shape:    (15000, 1)\n",
      "Test image shape:     (3000, 32, 32)\n",
      "Test label shape:     (3000, 1)\n"
     ]
    }
   ],
   "source": [
    "#converting into grayscale\n",
    "\n",
    "X_train = np.array([cv2.cvtColor(image, cv2.COLOR_BGR2GRAY) for image in X_train])\n",
    "X_test = np.array([cv2.cvtColor(image, cv2.COLOR_BGR2GRAY) for image in X_test])\n",
    "print ('Train image shape:    {0}'.format(X_train.shape))\n",
    "print ('Train label shape:    {0}'.format(y_train.shape))\n",
    "print ('Test image shape:     {0}'.format(X_test.shape))\n",
    "print ('Test label shape:     {0}'.format(y_test.shape))\n"
   ]
  },
  {
   "cell_type": "code",
   "execution_count": 4,
   "id": "persistent-gregory",
   "metadata": {},
   "outputs": [
    {
     "name": "stdout",
     "output_type": "stream",
     "text": [
      "Train image shape:    (15000, 32, 32)\n",
      "Train label shape:    (15000, 1)\n",
      "Test image shape:     (3000, 32, 32)\n",
      "Test label shape:     (3000, 1)\n"
     ]
    }
   ],
   "source": [
    "#preprocessing: normalize\n",
    "\n",
    "X_train  = X_train/255\n",
    "X_test  = X_test/255\n",
    "print ('Train image shape:    {0}'.format(X_train.shape))\n",
    "print ('Train label shape:    {0}'.format(y_train.shape))\n",
    "print ('Test image shape:     {0}'.format(X_test.shape))\n",
    "print ('Test label shape:     {0}'.format(y_test.shape))\n"
   ]
  },
  {
   "cell_type": "code",
   "execution_count": 5,
   "id": "resistant-myrtle",
   "metadata": {},
   "outputs": [
    {
     "name": "stdout",
     "output_type": "stream",
     "text": [
      "Train image shape:    (15000, 1024)\n",
      "Train label shape:    (15000, 1)\n",
      "Test image shape:     (3000, 1024)\n",
      "Test label shape:     (3000, 1)\n"
     ]
    }
   ],
   "source": [
    "#preprocessing: reshape\n",
    "\n",
    "X_train = np.reshape(X_train, (X_train.shape[0], -1)) \n",
    "X_test = np.reshape(X_test, (X_test.shape[0], -1)) \n",
    "\n",
    "print ('Train image shape:    {0}'.format(X_train.shape))\n",
    "print ('Train label shape:    {0}'.format(y_train.shape))\n",
    "print ('Test image shape:     {0}'.format(X_test.shape))\n",
    "print ('Test label shape:     {0}'.format(y_test.shape))"
   ]
  },
  {
   "cell_type": "code",
   "execution_count": 6,
   "id": "cloudy-committee",
   "metadata": {},
   "outputs": [],
   "source": [
    "#preprocessing: add bias - optional\n",
    "\n",
    "#X_train = np.hstack([X_train, np.ones((X_train.shape[0], 1))])\n",
    "#X_test = np.hstack([X_test, np.ones((X_test.shape[0], 1))])"
   ]
  },
  {
   "cell_type": "code",
   "execution_count": 7,
   "id": "sweet-understanding",
   "metadata": {},
   "outputs": [
    {
     "name": "stdout",
     "output_type": "stream",
     "text": [
      "Train image shape:    (15000, 1024)\n",
      "Train label shape:    (15000, 1)\n",
      "Test image shape:     (3000, 1024)\n",
      "Test label shape:     (3000, 1)\n"
     ]
    }
   ],
   "source": [
    "print ('Train image shape:    {0}'.format(X_train.shape))\n",
    "print ('Train label shape:    {0}'.format(y_train.shape))\n",
    "print ('Test image shape:     {0}'.format(X_test.shape))\n",
    "print ('Test label shape:     {0}'.format(y_test.shape))\n"
   ]
  },
  {
   "cell_type": "code",
   "execution_count": null,
   "id": "increasing-gamma",
   "metadata": {},
   "outputs": [],
   "source": []
  }
 ],
 "metadata": {
  "kernelspec": {
   "display_name": "Python 3",
   "language": "python",
   "name": "python3"
  },
  "language_info": {
   "codemirror_mode": {
    "name": "ipython",
    "version": 3
   },
   "file_extension": ".py",
   "mimetype": "text/x-python",
   "name": "python",
   "nbconvert_exporter": "python",
   "pygments_lexer": "ipython3",
   "version": "3.7.9"
  }
 },
 "nbformat": 4,
 "nbformat_minor": 5
}
